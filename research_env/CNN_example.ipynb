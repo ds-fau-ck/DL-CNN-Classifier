{
 "cells": [
  {
   "cell_type": "code",
   "execution_count": 3,
   "id": "978d657d-c6b9-4961-8934-c35ca058e4d3",
   "metadata": {},
   "outputs": [],
   "source": [
    "import tensorflow as tf\n",
    "import os\n",
    "from tqdm import tqdm\n",
    "import urllib.request as req"
   ]
  },
  {
   "cell_type": "code",
   "execution_count": 8,
   "id": "2e226aef-eead-4b9d-8a72-6ad8c9d3a70a",
   "metadata": {},
   "outputs": [],
   "source": [
    "#!pip install tqdm"
   ]
  },
  {
   "cell_type": "code",
   "execution_count": 6,
   "id": "d64cb807-bc7f-4a5c-a59f-5a44c90f95b0",
   "metadata": {},
   "outputs": [],
   "source": [
    "SOURCE_URL=\"https://download.microsoft.com/download/3/E/1/3E1C3F21-ECDB-4869-8368-6DEBA77B919F/kagglecatsanddogs_5340.zip\""
   ]
  },
  {
   "cell_type": "code",
   "execution_count": 9,
   "id": "dad554d8-b44f-4d73-ab96-2a9198af0c23",
   "metadata": {},
   "outputs": [],
   "source": [
    "DESTINATION=\"data\"\n",
    "os.makedirs(DESTINATION, exist_ok=True)\n",
    "data_file=\"data.zip\"\n",
    "DESTINATINATION_ZIP_PATH=os.path.join(DESTINATION,data_file)"
   ]
  },
  {
   "cell_type": "code",
   "execution_count": 10,
   "id": "9cbcab4e-0c8f-405d-845c-e1d69113ae27",
   "metadata": {},
   "outputs": [],
   "source": [
    "filename, headers=req.urlretrieve(SOURCE_URL,DESTINATINATION_ZIP_PATH)"
   ]
  },
  {
   "cell_type": "code",
   "execution_count": 11,
   "id": "8e509782-719e-4ae9-8529-58fc67c35686",
   "metadata": {},
   "outputs": [
    {
     "data": {
      "text/plain": [
       "'data\\\\data.zip'"
      ]
     },
     "execution_count": 11,
     "metadata": {},
     "output_type": "execute_result"
    }
   ],
   "source": [
    "filename"
   ]
  },
  {
   "cell_type": "code",
   "execution_count": 13,
   "id": "f4538fc5-8b71-47e9-b559-96ac277de002",
   "metadata": {},
   "outputs": [
    {
     "name": "stdout",
     "output_type": "stream",
     "text": [
      "Content-Type: application/octet-stream\n",
      "Server: Kestrel\n",
      "Accept-Ranges: bytes\n",
      "X-Ms-ApiVersion: Distribute 1.2\n",
      "X-Ms-Region: prod-weu-z1\n",
      "Content-Disposition: attachment; filename=kagglecatsanddogs_5340.zip; filename*=UTF-8''kagglecatsanddogs_5340.zip\n",
      "Last-Modified: Mon, 17 Feb 2025 11:10:03 GMT\n",
      "ETag: \"0xE7064A662EBB6A75C40BDC279B4618A8502DC176DBB45769C8E92453FED7577A\"\n",
      "Content-Length: 824887076\n",
      "Cache-Control: public, max-age=900\n",
      "Expires: Tue, 16 Sep 2025 06:38:55 GMT\n",
      "Date: Tue, 16 Sep 2025 06:23:55 GMT\n",
      "Connection: close\n",
      "\n",
      "\n"
     ]
    }
   ],
   "source": [
    "print(headers)"
   ]
  },
  {
   "cell_type": "code",
   "execution_count": null,
   "id": "e2542385-5bd8-4458-8b21-3bbdfd091464",
   "metadata": {},
   "outputs": [],
   "source": []
  }
 ],
 "metadata": {
  "kernelspec": {
   "display_name": "Python 3 (ipykernel)",
   "language": "python",
   "name": "python3"
  },
  "language_info": {
   "codemirror_mode": {
    "name": "ipython",
    "version": 3
   },
   "file_extension": ".py",
   "mimetype": "text/x-python",
   "name": "python",
   "nbconvert_exporter": "python",
   "pygments_lexer": "ipython3",
   "version": "3.10.18"
  }
 },
 "nbformat": 4,
 "nbformat_minor": 5
}
